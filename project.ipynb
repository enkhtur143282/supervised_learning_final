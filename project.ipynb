{
 "cells": [
  {
   "cell_type": "markdown",
   "id": "df844f2c-8d07-499e-ade9-218fe86b5860",
   "metadata": {},
   "source": [
    "### Project Title\n"
   ]
  },
  {
   "cell_type": "code",
   "execution_count": 1,
   "id": "f1257796-81e0-4be6-bb5e-2474a9d6fea9",
   "metadata": {},
   "outputs": [],
   "source": [
    "import numpy as np\n",
    "import scipy as sp\n",
    "import scipy.stats as stats\n",
    "import pandas as pd\n",
    "import matplotlib.pyplot as plt\n",
    "import seaborn as sns\n",
    "# Set color map to have light blue background\n",
    "sns.set()\n",
    "import statsmodels.formula.api as smf\n",
    "import statsmodels.api as sm"
   ]
  },
  {
   "cell_type": "code",
   "execution_count": 2,
   "id": "fcc6bf65-2faa-48b1-832c-7fb7fe18f3dd",
   "metadata": {},
   "outputs": [
    {
     "name": "stdout",
     "output_type": "stream",
     "text": [
      "<class 'pandas.core.frame.DataFrame'>\n",
      "RangeIndex: 1599 entries, 0 to 1598\n",
      "Data columns (total 12 columns):\n",
      " #   Column                Non-Null Count  Dtype  \n",
      "---  ------                --------------  -----  \n",
      " 0   fixed acidity         1599 non-null   float64\n",
      " 1   volatile acidity      1599 non-null   float64\n",
      " 2   citric acid           1599 non-null   float64\n",
      " 3   residual sugar        1599 non-null   float64\n",
      " 4   chlorides             1599 non-null   float64\n",
      " 5   free sulfur dioxide   1599 non-null   float64\n",
      " 6   total sulfur dioxide  1599 non-null   float64\n",
      " 7   density               1599 non-null   float64\n",
      " 8   pH                    1599 non-null   float64\n",
      " 9   sulphates             1599 non-null   float64\n",
      " 10  alcohol               1599 non-null   float64\n",
      " 11  quality               1599 non-null   int64  \n",
      "dtypes: float64(11), int64(1)\n",
      "memory usage: 150.0 KB\n",
      "None\n"
     ]
    },
    {
     "data": {
      "text/html": [
       "<div>\n",
       "<style scoped>\n",
       "    .dataframe tbody tr th:only-of-type {\n",
       "        vertical-align: middle;\n",
       "    }\n",
       "\n",
       "    .dataframe tbody tr th {\n",
       "        vertical-align: top;\n",
       "    }\n",
       "\n",
       "    .dataframe thead th {\n",
       "        text-align: right;\n",
       "    }\n",
       "</style>\n",
       "<table border=\"1\" class=\"dataframe\">\n",
       "  <thead>\n",
       "    <tr style=\"text-align: right;\">\n",
       "      <th></th>\n",
       "      <th>fixed acidity</th>\n",
       "      <th>volatile acidity</th>\n",
       "      <th>citric acid</th>\n",
       "      <th>residual sugar</th>\n",
       "      <th>chlorides</th>\n",
       "      <th>free sulfur dioxide</th>\n",
       "      <th>total sulfur dioxide</th>\n",
       "      <th>density</th>\n",
       "      <th>pH</th>\n",
       "      <th>sulphates</th>\n",
       "      <th>alcohol</th>\n",
       "      <th>quality</th>\n",
       "    </tr>\n",
       "  </thead>\n",
       "  <tbody>\n",
       "    <tr>\n",
       "      <th>0</th>\n",
       "      <td>7.4</td>\n",
       "      <td>0.70</td>\n",
       "      <td>0.00</td>\n",
       "      <td>1.9</td>\n",
       "      <td>0.076</td>\n",
       "      <td>11.0</td>\n",
       "      <td>34.0</td>\n",
       "      <td>0.9978</td>\n",
       "      <td>3.51</td>\n",
       "      <td>0.56</td>\n",
       "      <td>9.4</td>\n",
       "      <td>5</td>\n",
       "    </tr>\n",
       "    <tr>\n",
       "      <th>1</th>\n",
       "      <td>7.8</td>\n",
       "      <td>0.88</td>\n",
       "      <td>0.00</td>\n",
       "      <td>2.6</td>\n",
       "      <td>0.098</td>\n",
       "      <td>25.0</td>\n",
       "      <td>67.0</td>\n",
       "      <td>0.9968</td>\n",
       "      <td>3.20</td>\n",
       "      <td>0.68</td>\n",
       "      <td>9.8</td>\n",
       "      <td>5</td>\n",
       "    </tr>\n",
       "    <tr>\n",
       "      <th>2</th>\n",
       "      <td>7.8</td>\n",
       "      <td>0.76</td>\n",
       "      <td>0.04</td>\n",
       "      <td>2.3</td>\n",
       "      <td>0.092</td>\n",
       "      <td>15.0</td>\n",
       "      <td>54.0</td>\n",
       "      <td>0.9970</td>\n",
       "      <td>3.26</td>\n",
       "      <td>0.65</td>\n",
       "      <td>9.8</td>\n",
       "      <td>5</td>\n",
       "    </tr>\n",
       "    <tr>\n",
       "      <th>3</th>\n",
       "      <td>11.2</td>\n",
       "      <td>0.28</td>\n",
       "      <td>0.56</td>\n",
       "      <td>1.9</td>\n",
       "      <td>0.075</td>\n",
       "      <td>17.0</td>\n",
       "      <td>60.0</td>\n",
       "      <td>0.9980</td>\n",
       "      <td>3.16</td>\n",
       "      <td>0.58</td>\n",
       "      <td>9.8</td>\n",
       "      <td>6</td>\n",
       "    </tr>\n",
       "    <tr>\n",
       "      <th>4</th>\n",
       "      <td>7.4</td>\n",
       "      <td>0.70</td>\n",
       "      <td>0.00</td>\n",
       "      <td>1.9</td>\n",
       "      <td>0.076</td>\n",
       "      <td>11.0</td>\n",
       "      <td>34.0</td>\n",
       "      <td>0.9978</td>\n",
       "      <td>3.51</td>\n",
       "      <td>0.56</td>\n",
       "      <td>9.4</td>\n",
       "      <td>5</td>\n",
       "    </tr>\n",
       "  </tbody>\n",
       "</table>\n",
       "</div>"
      ],
      "text/plain": [
       "   fixed acidity  volatile acidity  citric acid  residual sugar  chlorides  \\\n",
       "0            7.4              0.70         0.00             1.9      0.076   \n",
       "1            7.8              0.88         0.00             2.6      0.098   \n",
       "2            7.8              0.76         0.04             2.3      0.092   \n",
       "3           11.2              0.28         0.56             1.9      0.075   \n",
       "4            7.4              0.70         0.00             1.9      0.076   \n",
       "\n",
       "   free sulfur dioxide  total sulfur dioxide  density    pH  sulphates  \\\n",
       "0                 11.0                  34.0   0.9978  3.51       0.56   \n",
       "1                 25.0                  67.0   0.9968  3.20       0.68   \n",
       "2                 15.0                  54.0   0.9970  3.26       0.65   \n",
       "3                 17.0                  60.0   0.9980  3.16       0.58   \n",
       "4                 11.0                  34.0   0.9978  3.51       0.56   \n",
       "\n",
       "   alcohol  quality  \n",
       "0      9.4        5  \n",
       "1      9.8        5  \n",
       "2      9.8        5  \n",
       "3      9.8        6  \n",
       "4      9.4        5  "
      ]
     },
     "execution_count": 2,
     "metadata": {},
     "output_type": "execute_result"
    }
   ],
   "source": [
    "df = pd.read_csv(\"winequality-red.csv\", delimiter=';')\n",
    "print(df.info())\n",
    "df.describe()\n",
    "df.head()"
   ]
  },
  {
   "cell_type": "code",
   "execution_count": 3,
   "id": "0db7733c-fa95-488e-a258-c575bf90866a",
   "metadata": {},
   "outputs": [
    {
     "name": "stdout",
     "output_type": "stream",
     "text": [
      "Index(['fixed acidity', 'volatile acidity', 'citric acid', 'residual sugar',\n",
      "       'chlorides', 'free sulfur dioxide', 'total sulfur dioxide', 'density',\n",
      "       'pH', 'sulphates', 'alcohol', 'quality'],\n",
      "      dtype='object')\n",
      "[(0.00018855786403859653, 'residual sugar'), (0.00256603613553541, 'free sulfur dioxide'), (0.0033329135305093516, 'pH'), (0.015388811647710554, 'fixed acidity'), (0.0166169011930003, 'chlorides'), (0.030596736248323264, 'density'), (0.03426211696068793, 'total sulfur dioxide'), (0.05124451523867224, 'citric acid'), (0.06320049136455641, 'sulphates'), (0.15253537972474884, 'volatile acidity'), (0.2267343681127545, 'alcohol')]\n"
     ]
    }
   ],
   "source": [
    "# your code here\n",
    "rsquared_list = []\n",
    "print(df.columns)\n",
    "\n",
    "for column in df.columns:\n",
    "    if column == 'quality':\n",
    "        continue\n",
    "    model = smf.ols(formula='quality ~ Q(\"' + column + '\")', data=df).fit()\n",
    "    rsquared_list.append((model.rsquared, column))\n",
    "rsquared_list.sort()\n",
    "print(rsquared_list)"
   ]
  },
  {
   "cell_type": "code",
   "execution_count": 4,
   "id": "740c16a3-5e8a-40a2-b9de-a0f17044152f",
   "metadata": {},
   "outputs": [
    {
     "data": {
      "image/png": "[encoded data removed]",
      "text/plain": [
       "<Figure size 640x480 with 1 Axes>"
      ]
     },
     "metadata": {},
     "output_type": "display_data"
    },
    {
     "data": {
      "image/png": "[encoded data removed]",
      "text/plain": [
       "<Figure size 640x480 with 1 Axes>"
      ]
     },
     "metadata": {},
     "output_type": "display_data"
    }
   ],
   "source": [
    "sns.scatterplot(x='alcohol', y='quality',data=df)\n",
    "plt.show()\n",
    "\n",
    "sns.scatterplot(x='volatile acidity', y='quality',data=df)\n",
    "plt.show()"
   ]
  },
  {
   "cell_type": "code",
   "execution_count": 5,
   "id": "268dfde6-dcb6-4903-a4dd-0432c6d054ab",
   "metadata": {},
   "outputs": [
    {
     "name": "stdout",
     "output_type": "stream",
     "text": [
      "                            OLS Regression Results                            \n",
      "==============================================================================\n",
      "Dep. Variable:                quality   R-squared:                       0.336\n",
      "Model:                            OLS   Adj. R-squared:                  0.335\n",
      "Method:                 Least Squares   F-statistic:                     268.9\n",
      "Date:                Tue, 30 Apr 2024   Prob (F-statistic):          3.16e-141\n",
      "Time:                        02:16:01   Log-Likelihood:                -1599.4\n",
      "No. Observations:                1599   AIC:                             3207.\n",
      "Df Residuals:                    1595   BIC:                             3228.\n",
      "Df Model:                           3                                         \n",
      "Covariance Type:            nonrobust                                         \n",
      "=========================================================================================\n",
      "                            coef    std err          t      P>|t|      [0.025      0.975]\n",
      "-----------------------------------------------------------------------------------------\n",
      "Intercept                 2.6108      0.196     13.342      0.000       2.227       2.995\n",
      "Q(\"alcohol\")              0.3092      0.016     19.566      0.000       0.278       0.340\n",
      "Q(\"volatile acidity\")    -1.2214      0.097    -12.591      0.000      -1.412      -1.031\n",
      "sulphates                 0.6790      0.101      6.737      0.000       0.481       0.877\n",
      "==============================================================================\n",
      "Omnibus:                       22.086   Durbin-Watson:                   1.736\n",
      "Prob(Omnibus):                  0.000   Jarque-Bera (JB):               34.420\n",
      "Skew:                          -0.109   Prob(JB):                     3.36e-08\n",
      "Kurtosis:                       3.685   Cond. No.                         133.\n",
      "==============================================================================\n",
      "\n",
      "Notes:\n",
      "[1] Standard Errors assume that the covariance matrix of the errors is correctly specified.\n"
     ]
    }
   ],
   "source": [
    "model = smf.ols(formula='quality ~ Q(\"alcohol\") +  Q(\"volatile acidity\") + sulphates', data=df).fit()\n",
    "print(model.summary())"
   ]
  },
  {
   "cell_type": "code",
   "execution_count": 6,
   "id": "62fca5ce-0617-4057-a291-001564d21d22",
   "metadata": {},
   "outputs": [],
   "source": [
    "from sklearn.neighbors import KNeighborsRegressor   # For regression\n",
    "from sklearn.ensemble import RandomForestRegressor\n",
    "from sklearn.linear_model import LinearRegression\n",
    "from sklearn.preprocessing import StandardScaler\n",
    "from sklearn.model_selection import train_test_split\n",
    "from sklearn.datasets import load_iris  # Example dataset\n",
    "from sklearn.metrics import mean_squared_error, r2_score\n",
    "import numpy as np\n"
   ]
  },
  {
   "cell_type": "code",
   "execution_count": 7,
   "id": "e9882968-f7d0-4ba7-bbcd-242039e67547",
   "metadata": {},
   "outputs": [],
   "source": [
    "X, y = df.drop('quality', axis=1).values, df['quality'].values"
   ]
  },
  {
   "cell_type": "code",
   "execution_count": 8,
   "id": "fefab9a4-b8b7-43ca-b550-33395f09a4a6",
   "metadata": {},
   "outputs": [],
   "source": [
    "X_train, X_test, y_train, y_test = train_test_split(X, y, test_size=0.2, random_state=42)\n"
   ]
  },
  {
   "cell_type": "code",
   "execution_count": 9,
   "id": "53e3111e-74a6-4295-bb44-637fbd0d1272",
   "metadata": {},
   "outputs": [
    {
     "name": "stdout",
     "output_type": "stream",
     "text": [
      "[5. 5. 6. 5. 6. 5. 5. 5. 6. 6. 6. 5. 6. 5. 5. 6. 5. 6. 7. 5. 5. 5. 6. 6.\n",
      " 5. 5. 6. 5. 5. 6. 5. 6. 6. 5. 5. 5. 6. 6. 6. 6. 6. 5. 6. 5. 6. 6. 6. 6.\n",
      " 5. 6. 5. 5. 6. 6. 5. 5. 6. 5. 6. 5. 6. 6. 5. 5. 6. 5. 6. 5. 6. 5. 6. 5.\n",
      " 6. 6. 6. 5. 7. 6. 6. 6. 5. 6. 5. 6. 6. 6. 5. 6. 6. 5. 6. 6. 6. 6. 5. 6.\n",
      " 5. 6. 5. 6. 5. 5. 6. 6. 5. 6. 6. 5. 6. 5. 7. 5. 6. 5. 6. 6. 6. 6. 5. 6.\n",
      " 6. 5. 6. 5. 5. 5. 6. 6. 6. 6. 6. 5. 5. 6. 6. 5. 5. 5. 5. 6. 6. 6. 6. 5.\n",
      " 6. 5. 6. 5. 6. 5. 6. 6. 5. 6. 6. 6. 5. 6. 5. 6. 6. 6. 6. 5. 5. 6. 5. 5.\n",
      " 5. 5. 5. 5. 6. 5. 6. 6. 6. 5. 5. 5. 5. 6. 6. 7. 5. 6. 5. 6. 7. 5. 5. 6.\n",
      " 6. 7. 6. 5. 5. 5. 5. 6. 5. 6. 5. 5. 7. 6. 5. 6. 6. 6. 6. 5. 6. 7. 6. 6.\n",
      " 5. 5. 6. 5. 5. 6. 6. 6. 5. 5. 5. 6. 5. 5. 6. 5. 6. 6. 6. 6. 5. 6. 5. 5.\n",
      " 6. 5. 6. 6. 5. 6. 6. 5. 7. 5. 6. 6. 5. 6. 5. 5. 5. 6. 6. 7. 6. 6. 5. 7.\n",
      " 6. 6. 5. 5. 6. 6. 5. 6. 5. 5. 5. 5. 6. 6. 6. 5. 6. 5. 5. 5. 5. 6. 5. 6.\n",
      " 5. 6. 6. 7. 6. 6. 5. 6. 5. 6. 6. 7. 6. 5. 6. 5. 5. 5. 6. 6. 6. 7. 6. 6.\n",
      " 6. 6. 5. 6. 5. 5. 6. 5.]\n",
      "Linear Regression MSE: 0.46\n",
      "knn_mse: 0.53\n",
      "rf_mse: 0.43\n",
      "Random Forest R^2: 0.34\n",
      "Linear Regression R^2: 0.30\n"
     ]
    }
   ],
   "source": [
    "knn = KNeighborsRegressor(n_neighbors=3)\n",
    "rf_reg = RandomForestRegressor(max_depth=10, min_samples_leaf=10)\n",
    "lin_reg = LinearRegression()\n",
    "\n",
    "scaler = StandardScaler()\n",
    "X_train_scaled = scaler.fit_transform(X_train)\n",
    "X_test_scaled = scaler.transform(X_test)\n",
    "\n",
    "rf_reg.fit(X_train, y_train)\n",
    "knn.fit(X_train_scaled, y_train)\n",
    "lin_reg.fit(X_train, y_train)\n",
    "\n",
    "# Predict on the test data\n",
    "y_pred_lin =  np.rint(lin_reg.predict(X_test))\n",
    "y_pred =  np.rint(knn.predict(X_test_scaled))\n",
    "y_pred_rf =  np.rint(rf_reg.predict(X_test))\n",
    "print(y_pred_lin)\n",
    "# Evaluate the model\n",
    "mse_lin = mean_squared_error(y_test, y_pred_lin)\n",
    "knn_mse = mean_squared_error(y_test, y_pred)\n",
    "rf_mse = mean_squared_error(y_test, y_pred_rf)\n",
    "print(f\"Linear Regression MSE: {mse_lin:.2f}\")\n",
    "print(f\"knn_mse: {knn_mse:.2f}\")\n",
    "print(f\"rf_mse: {rf_mse:.2f}\")\n",
    "\n",
    "rf_r2 = r2_score(y_test, y_pred_rf)\n",
    "lin_r2 = r2_score(y_test, y_pred_lin)\n",
    "\n",
    "print(f\"Random Forest R^2: {rf_r2:.2f}\")\n",
    "print(f\"Linear Regression R^2: {lin_r2:.2f}\")\n"
   ]
  },
  {
   "cell_type": "code",
   "execution_count": null,
   "id": "66416494-98b0-48f6-a45d-4c5fb4ba685e",
   "metadata": {},
   "outputs": [],
   "source": []
  }
 ],
 "metadata": {
  "kernelspec": {
   "display_name": "Python 3 (ipykernel)",
   "language": "python",
   "name": "python3"
  },
  "language_info": {
   "codemirror_mode": {
    "name": "ipython",
    "version": 3
   },
   "file_extension": ".py",
   "mimetype": "text/x-python",
   "name": "python",
   "nbconvert_exporter": "python",
   "pygments_lexer": "ipython3",
   "version": "3.10.12"
  }
 },
 "nbformat": 4,
 "nbformat_minor": 5
}
